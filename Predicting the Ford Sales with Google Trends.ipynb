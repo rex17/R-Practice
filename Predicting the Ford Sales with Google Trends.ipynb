{
 "cells": [
  {
   "cell_type": "markdown",
   "metadata": {},
   "source": [
    "Choi and Varian paper proposed how Google trends can be used to create predictive models. Ran the example provided in the appendix of paper: o Extracted google trends data from gtrendsR R package provided the category as “Automotive/Vehicle Brands/Ford”, from and to time as “2004-01-01 2008-08-30” and type of queries data to be required.  o GoogleTrendsData had \"date\" and \"hits\", it is found that search hits are declined with year.  \n",
    "0 0.5 1 1.5 2 2.5 3 3.5 4 4.5 5\n",
    "m1norm_frq_2010 m1norm_frq_2011 m1norm_frq_2012\n",
    "0\n",
    "5\n",
    "10\n",
    "15\n",
    "20\n",
    "m2norm_frq_2010 m2norm_frq_2011 m2norm_frq_2012\n",
    "5 October 2018 \n",
    "5 \n",
    " \n",
    "o Ford monthly sales data for the given interval is generated as well. After plotting, it showed that sales were at the peaks during March and April months every year and google trends data also supporting it well. https://public.tableau.com/views/ford_sales_data_analysis/seasonalitycheck?:embed=y&:display_count=yes& publish=yes \n",
    " \n",
    "o Added a row to forecast next month in ford sales dataframe.  o Corrected the Date format to “yyyy-mm-dd” for both sales and google trends data then merged sales data with google trends data. o Time lag is defined for ford sales dataframe between the research query hits provided in trends data and sales data i.e when purchase is done. o Data divided for fitting and prediction. o Performed Exploratory Data Analysis - Testing Autocorrelation & Seasonality with ACF and Ljung-box graph plotted. In Acf the min-max boundaries on crossed on 4 instances out of 15 by small distance. Both showed that residuals forecast errors are close to 0 so not much correlation.  Ljung-box given  P-value = 0.3334 that’s small correlation. o Pearson product-moment correlation is performed to check association between data points calculated p-value = 0.3 (round fig) small correlation for all 3 trends that’s with time lag 0, +1 and +2. o Linear model fitting is defined and summary plotted to check interquartile ranges, error and degree of freedom employed by model.  o Predict is called for the next month sales provided trained model and data. \n",
    " \n",
    "predict.fit = predict(fit, newdata=dat2, se.fit=TRUE show(dat2) ##          month  sales    s1     s12  trends1 trends2 trends3 ## 240  2008-08-01  39.502  67.494  42.502    68     66      68 \n",
    " \n",
    "I would have considered other metrics as well which google trends provides   Geographically i.e. at continent or countrywise how the sales have changed over the years.   Whether any other companies have launched similar specs model as Ford which could cut some sales.  Is there new product line Ford is introducing which will target the car owners driving similar car of other company that will turn into profit.  Stock Market ups and downs of Ford stock during that interval of time. \n",
    " \n",
    "Once the models are ready will calculate Mean absolute error from the predictions to evaluate the models. So will have idea about over predicting and under predicting models. "
   ]
  },
  {
   "cell_type": "code",
   "execution_count": 21,
   "metadata": {
    "collapsed": true
   },
   "outputs": [],
   "source": [
    "library(gtrendsR)\n",
    "library(reshape2)\n",
    "library(ggplot2)\n"
   ]
  },
  {
   "cell_type": "code",
   "execution_count": 4,
   "metadata": {},
   "outputs": [
    {
     "name": "stdout",
     "output_type": "stream",
     "text": [
      "                   date hits\n",
      "1   2004-01-04 01:00:00   91\n",
      "2   2004-01-11 01:00:00   87\n",
      "3   2004-01-18 01:00:00   87\n",
      "4   2004-01-25 01:00:00   84\n",
      "5   2004-02-01 01:00:00   84\n",
      "6   2004-02-08 01:00:00   85\n",
      "7   2004-02-15 01:00:00   82\n",
      "8   2004-02-22 01:00:00   86\n",
      "9   2004-02-29 01:00:00   83\n",
      "10  2004-03-07 01:00:00   84\n",
      "11  2004-03-14 01:00:00   82\n",
      "12  2004-03-21 01:00:00   83\n",
      "13  2004-03-28 02:00:00   84\n",
      "14  2004-04-04 01:00:00   85\n",
      "15  2004-04-11 01:00:00   86\n",
      "16  2004-04-18 01:00:00   88\n",
      "17  2004-04-25 01:00:00   86\n",
      "18  2004-05-02 01:00:00   82\n",
      "19  2004-05-09 01:00:00   82\n",
      "20  2004-05-16 01:00:00   84\n",
      "21  2004-05-23 01:00:00   81\n",
      "22  2004-05-30 01:00:00   79\n",
      "23  2004-06-06 01:00:00   82\n",
      "24  2004-06-13 01:00:00   78\n",
      "25  2004-06-20 01:00:00   78\n",
      "26  2004-06-27 01:00:00   78\n",
      "27  2004-07-04 01:00:00   79\n",
      "28  2004-07-11 01:00:00   81\n",
      "29  2004-07-18 01:00:00   87\n",
      "30  2004-07-25 01:00:00   82\n",
      "31  2004-08-01 01:00:00   85\n",
      "32  2004-08-08 01:00:00   83\n",
      "33  2004-08-15 01:00:00   81\n",
      "34  2004-08-22 01:00:00   80\n",
      "35  2004-08-29 01:00:00   81\n",
      "36  2004-09-05 01:00:00   79\n",
      "37  2004-09-12 01:00:00   83\n",
      "38  2004-09-19 01:00:00   84\n",
      "39  2004-09-26 01:00:00   83\n",
      "40  2004-10-03 01:00:00   82\n",
      "41  2004-10-10 01:00:00   79\n",
      "42  2004-10-17 01:00:00   82\n",
      "43  2004-10-24 01:00:00   83\n",
      "44  2004-10-31 01:00:00   78\n",
      "45  2004-11-07 01:00:00   82\n",
      "46  2004-11-14 01:00:00   82\n",
      "47  2004-11-21 01:00:00   78\n",
      "48  2004-11-28 01:00:00   78\n",
      "49  2004-12-05 01:00:00   75\n",
      "50  2004-12-12 01:00:00   75\n",
      "51  2004-12-19 01:00:00   75\n",
      "52  2004-12-26 01:00:00   82\n",
      "53  2005-01-02 01:00:00   83\n",
      "54  2005-01-09 01:00:00   85\n",
      "55  2005-01-16 01:00:00   84\n",
      "56  2005-01-23 01:00:00   84\n",
      "57  2005-01-30 01:00:00   85\n",
      "58  2005-02-06 01:00:00   85\n",
      "59  2005-02-13 01:00:00   83\n",
      "60  2005-02-20 01:00:00   81\n",
      "61  2005-02-27 01:00:00   82\n",
      "62  2005-03-06 01:00:00   82\n",
      "63  2005-03-13 01:00:00   82\n",
      "64  2005-03-20 01:00:00   84\n",
      "65  2005-03-27 02:00:00   85\n",
      "66  2005-04-03 01:00:00   81\n",
      "67  2005-04-10 01:00:00   81\n",
      "68  2005-04-17 01:00:00   80\n",
      "69  2005-04-24 01:00:00   81\n",
      "70  2005-05-01 01:00:00   79\n",
      "71  2005-05-08 01:00:00   79\n",
      "72  2005-05-15 01:00:00   78\n",
      "73  2005-05-22 01:00:00   78\n",
      "74  2005-05-29 01:00:00   75\n",
      "75  2005-06-05 01:00:00   77\n",
      "76  2005-06-12 01:00:00   79\n",
      "77  2005-06-19 01:00:00   79\n",
      "78  2005-06-26 01:00:00   79\n",
      "79  2005-07-03 01:00:00   82\n",
      "80  2005-07-10 01:00:00   87\n",
      "81  2005-07-17 01:00:00   85\n",
      "82  2005-07-24 01:00:00   86\n",
      "83  2005-07-31 01:00:00   82\n",
      "84  2005-08-07 01:00:00   84\n",
      "85  2005-08-14 01:00:00   84\n",
      "86  2005-08-21 01:00:00   81\n",
      "87  2005-08-28 01:00:00   76\n",
      "88  2005-09-04 01:00:00   77\n",
      "89  2005-09-11 01:00:00   76\n",
      "90  2005-09-18 01:00:00   74\n",
      "91  2005-09-25 01:00:00   73\n",
      "92  2005-10-02 01:00:00   73\n",
      "93  2005-10-09 01:00:00   73\n",
      "94  2005-10-16 01:00:00   71\n",
      "95  2005-10-23 01:00:00   73\n",
      "96  2005-10-30 01:00:00   73\n",
      "97  2005-11-06 01:00:00   72\n",
      "98  2005-11-13 01:00:00   74\n",
      "99  2005-11-20 01:00:00   70\n",
      "100 2005-11-27 01:00:00   71\n",
      "101 2005-12-04 01:00:00   70\n",
      "102 2005-12-11 01:00:00   70\n",
      "103 2005-12-18 01:00:00   68\n",
      "104 2005-12-25 01:00:00   72\n",
      "105 2006-01-01 01:00:00   74\n",
      "106 2006-01-08 01:00:00   80\n",
      "107 2006-01-15 01:00:00   78\n",
      "108 2006-01-22 01:00:00   88\n",
      "109 2006-01-29 01:00:00   81\n",
      "110 2006-02-05 01:00:00   81\n",
      "111 2006-02-12 01:00:00   76\n",
      "112 2006-02-19 01:00:00   79\n",
      "113 2006-02-26 01:00:00   81\n",
      "114 2006-03-05 01:00:00   79\n",
      "115 2006-03-12 01:00:00   80\n",
      "116 2006-03-19 01:00:00   79\n",
      "117 2006-03-26 02:00:00   75\n",
      "118 2006-04-02 01:00:00   75\n",
      "119 2006-04-09 01:00:00   77\n",
      "120 2006-04-16 01:00:00   78\n",
      "121 2006-04-23 01:00:00   76\n",
      "122 2006-04-30 01:00:00   76\n",
      "123 2006-05-07 01:00:00   76\n",
      "124 2006-05-14 01:00:00   77\n",
      "125 2006-05-21 01:00:00   75\n",
      "126 2006-05-28 01:00:00   74\n",
      "127 2006-06-04 01:00:00   74\n",
      "128 2006-06-11 01:00:00   73\n",
      "129 2006-06-18 01:00:00   74\n",
      "130 2006-06-25 01:00:00   74\n",
      "131 2006-07-02 01:00:00   76\n",
      "132 2006-07-09 01:00:00   76\n",
      "133 2006-07-16 01:00:00   81\n",
      "134 2006-07-23 01:00:00   80\n",
      "135 2006-07-30 01:00:00   82\n",
      "136 2006-08-06 01:00:00   82\n",
      "137 2006-08-13 01:00:00   80\n",
      "138 2006-08-20 01:00:00   82\n",
      "139 2006-08-27 01:00:00   83\n",
      "140 2006-09-03 01:00:00   77\n",
      "141 2006-09-10 01:00:00   75\n",
      "142 2006-09-17 01:00:00   77\n",
      "143 2006-09-24 01:00:00   77\n",
      "144 2006-10-01 01:00:00   73\n",
      "145 2006-10-08 01:00:00   75\n",
      "146 2006-10-15 01:00:00   76\n",
      "147 2006-10-22 01:00:00   76\n",
      "148 2006-10-29 01:00:00   74\n",
      "149 2006-11-05 01:00:00   72\n",
      "150 2006-11-12 01:00:00   73\n",
      "151 2006-11-19 01:00:00   67\n",
      "152 2006-11-26 01:00:00   67\n",
      "153 2006-12-03 01:00:00   66\n",
      "154 2006-12-10 01:00:00   65\n",
      "155 2006-12-17 01:00:00   63\n",
      "156 2006-12-24 01:00:00   95\n",
      "157 2006-12-31 01:00:00  100\n",
      "158 2007-01-07 01:00:00   77\n",
      "159 2007-01-14 01:00:00   74\n",
      "160 2007-01-21 01:00:00   77\n",
      "161 2007-01-28 01:00:00   74\n",
      "162 2007-02-04 01:00:00   75\n",
      "163 2007-02-11 01:00:00   74\n",
      "164 2007-02-18 01:00:00   78\n",
      "165 2007-02-25 01:00:00   73\n",
      "166 2007-03-04 01:00:00   74\n",
      "167 2007-03-11 01:00:00   74\n",
      "168 2007-03-18 01:00:00   74\n",
      "169 2007-03-25 02:00:00   75\n",
      "170 2007-04-01 01:00:00   73\n",
      "171 2007-04-08 01:00:00   78\n",
      "172 2007-04-15 01:00:00   72\n",
      "173 2007-04-22 01:00:00   74\n",
      "174 2007-04-29 01:00:00   73\n",
      "175 2007-05-06 01:00:00   71\n",
      "176 2007-05-13 01:00:00   73\n",
      "177 2007-05-20 01:00:00   75\n",
      "178 2007-05-27 01:00:00   72\n",
      "179 2007-06-03 01:00:00   71\n",
      "180 2007-06-10 01:00:00   73\n",
      "181 2007-06-17 01:00:00   72\n",
      "182 2007-06-24 01:00:00   72\n",
      "183 2007-07-01 01:00:00   74\n",
      "184 2007-07-08 01:00:00   73\n",
      "185 2007-07-15 01:00:00   76\n",
      "186 2007-07-22 01:00:00   76\n",
      "187 2007-07-29 01:00:00   76\n",
      "188 2007-08-05 01:00:00   76\n",
      "189 2007-08-12 01:00:00   74\n",
      "190 2007-08-19 01:00:00   74\n",
      "191 2007-08-26 01:00:00   73\n",
      "192 2007-09-02 01:00:00   72\n",
      "193 2007-09-09 01:00:00   72\n",
      "194 2007-09-16 01:00:00   72\n",
      "195 2007-09-23 01:00:00   71\n",
      "196 2007-09-30 01:00:00   69\n",
      "197 2007-10-07 01:00:00   71\n",
      "198 2007-10-14 01:00:00   70\n",
      "199 2007-10-21 01:00:00   69\n",
      "200 2007-10-28 01:00:00   69\n",
      "201 2007-11-04 01:00:00   70\n",
      "202 2007-11-11 01:00:00   68\n",
      "203 2007-11-18 01:00:00   67\n",
      "204 2007-11-25 01:00:00   66\n",
      "205 2007-12-02 01:00:00   67\n",
      "206 2007-12-09 01:00:00   65\n",
      "207 2007-12-16 01:00:00   64\n",
      "208 2007-12-23 01:00:00   68\n",
      "209 2007-12-30 01:00:00   73\n",
      "210 2008-01-06 01:00:00   73\n",
      "211 2008-01-13 01:00:00   76\n",
      "212 2008-01-20 01:00:00   75\n",
      "213 2008-01-27 01:00:00   73\n",
      "214 2008-02-03 01:00:00   73\n",
      "215 2008-02-10 01:00:00   73\n",
      "216 2008-02-17 01:00:00   80\n",
      "217 2008-02-24 01:00:00   76\n",
      "218 2008-03-02 01:00:00   73\n",
      "219 2008-03-09 01:00:00   72\n",
      "220 2008-03-16 01:00:00   74\n",
      "221 2008-03-23 01:00:00   77\n",
      "222 2008-03-30 02:00:00   74\n",
      "223 2008-04-06 01:00:00   71\n",
      "224 2008-04-13 01:00:00   72\n",
      "225 2008-04-20 01:00:00   73\n",
      "226 2008-04-27 01:00:00   73\n",
      "227 2008-05-04 01:00:00   70\n",
      "228 2008-05-11 01:00:00   71\n",
      "229 2008-05-18 01:00:00   77\n",
      "230 2008-05-25 01:00:00   74\n",
      "231 2008-06-01 01:00:00   70\n",
      "232 2008-06-08 01:00:00   69\n",
      "233 2008-06-15 01:00:00   67\n",
      "234 2008-06-22 01:00:00   68\n",
      "235 2008-06-29 01:00:00   66\n",
      "236 2008-07-06 01:00:00   68\n",
      "237 2008-07-13 01:00:00   67\n",
      "238 2008-07-20 01:00:00   70\n",
      "239 2008-07-27 01:00:00   69\n",
      "240 2008-08-03 01:00:00   68\n",
      "241 2008-08-10 01:00:00   66\n",
      "242 2008-08-17 01:00:00   67\n",
      "243 2008-08-24 01:00:00   66\n"
     ]
    }
   ],
   "source": [
    "\n",
    "ford_trends_dat = gtrends(c(\"Ford\"), gprop = \"web\", time = \"2004-01-01 2008-08-30\")[[1]]\n",
    "ford_trends_dat = dcast(ford_trends_dat, date ~ keyword + geo, value.var = \"hits\")\n",
    "colnames(ford_trends_dat) <- c(\"date\",\"hits\")\n",
    "print(ford_trends_dat)"
   ]
  },
  {
   "cell_type": "code",
   "execution_count": 5,
   "metadata": {},
   "outputs": [
    {
     "data": {},
     "metadata": {},
     "output_type": "display_data"
    },
    {
     "data": {
      "image/png": "[encoded data removed]",
      "text/plain": [
       "plot without title"
      ]
     },
     "metadata": {},
     "output_type": "display_data"
    }
   ],
   "source": [
    "\n",
    "ggplot(data=ford_trends_dat , aes(x= date, y = hits, group= 1))+\n",
    "  geom_line(color = \"blue\")\n"
   ]
  },
  {
   "cell_type": "code",
   "execution_count": 8,
   "metadata": {},
   "outputs": [
    {
     "name": "stdout",
     "output_type": "stream",
     "text": [
      "        month   sales\n",
      "1  2004-01-01  70.599\n",
      "2  2004-02-01  63.044\n",
      "3  2004-03-01 137.656\n",
      "4  2004-04-01  87.925\n",
      "5  2004-05-01  82.412\n",
      "6  2004-06-01 104.704\n",
      "7  2004-07-01  83.404\n",
      "8  2004-08-01  55.581\n",
      "9  2004-09-01 111.174\n",
      "10 2004-10-01  79.926\n",
      "11 2004-11-01  78.792\n",
      "12 2004-12-01  81.232\n",
      "13 2005-01-01  78.185\n",
      "14 2005-02-01  73.111\n",
      "15 2005-03-01 137.014\n",
      "16 2005-04-01  88.979\n",
      "17 2005-05-01  86.634\n",
      "18 2005-06-01 100.793\n",
      "19 2005-07-01  82.691\n",
      "20 2005-08-01  56.879\n",
      "21 2005-09-01 108.559\n",
      "22 2005-10-01  75.219\n",
      "23 2005-11-01  77.513\n",
      "24 2005-12-01  75.854\n",
      "25 2006-01-01  84.652\n",
      "26 2006-02-01  70.261\n",
      "27 2006-03-01 160.395\n",
      "28 2006-04-01  78.072\n",
      "29 2006-05-01  90.991\n",
      "30 2006-06-01  97.833\n",
      "31 2006-07-01  75.638\n",
      "32 2006-08-01  52.502\n",
      "33 2006-09-01  92.677\n",
      "34 2006-10-01  79.538\n",
      "35 2006-11-01  80.704\n",
      "36 2006-12-01  70.228\n",
      "37 2007-01-01  86.028\n",
      "38 2007-02-01  76.771\n",
      "39 2007-03-01 135.997\n",
      "40 2007-04-01  88.968\n",
      "41 2007-05-01  91.449\n",
      "42 2007-06-01  93.435\n",
      "43 2007-07-01  77.494\n",
      "44 2007-08-01  42.502\n",
      "45 2007-09-01  82.770\n",
      "46 2007-10-01  69.538\n",
      "47 2007-11-01  70.704\n",
      "48 2007-12-01  60.228\n",
      "49 2008-01-01  76.028\n",
      "50 2008-02-01  66.771\n",
      "51 2008-03-01 115.997\n",
      "52 2008-04-01  78.968\n",
      "53 2008-05-01  71.449\n",
      "54 2008-06-01  73.435\n",
      "55 2008-07-01  67.494\n",
      "56 2008-08-01  39.502\n"
     ]
    }
   ],
   "source": [
    "ford_sales_dat = read.csv(\"ford_sales_data_2004-2008.csv\"); \n",
    "print(ford_sales_dat)"
   ]
  },
  {
   "cell_type": "code",
   "execution_count": 9,
   "metadata": {},
   "outputs": [
    {
     "data": {},
     "metadata": {},
     "output_type": "display_data"
    },
    {
     "data": {
      "image/png": "[encoded data removed]",
      "text/plain": [
       "plot without title"
      ]
     },
     "metadata": {},
     "output_type": "display_data"
    }
   ],
   "source": [
    "\n",
    "ggplot(data=ford_sales_dat , aes(x= month, y = sales, group= 1))+\n",
    "  geom_line(color = \"blue\")"
   ]
  },
  {
   "cell_type": "code",
   "execution_count": 10,
   "metadata": {
    "collapsed": true
   },
   "outputs": [],
   "source": [
    "ford_sales_dat$month = as.Date(ford_sales_dat$month)\n",
    "\n",
    "##### get ready for the forecasting; \n",
    "ford_sales_dat = rbind(ford_sales_dat, ford_sales_dat[nrow(ford_sales_dat), ]); \n",
    "ford_sales_dat[nrow(ford_sales_dat), 'month'] = as.Date('2008-09-01'); \n",
    "ford_sales_dat[nrow(ford_sales_dat), -1] <- rep(NA,ncol(ford_sales_dat)-1);\n",
    "\n",
    "##### Define Predictors - Time Lags; \n",
    "ford_sales_dat$s1 = c(NA, ford_sales_dat$sales[1:(nrow(ford_sales_dat)-1)]); \n",
    "ford_sales_dat$s12 = c(rep(NA, 12), ford_sales_dat$sales[1:(nrow(ford_sales_dat)-12)]);"
   ]
  },
  {
   "cell_type": "code",
   "execution_count": 12,
   "metadata": {},
   "outputs": [
    {
     "data": {
      "image/png": "[encoded data removed]",
      "text/plain": [
       "Plot with title \"Google Trends: Ford\""
      ]
     },
     "metadata": {},
     "output_type": "display_data"
    }
   ],
   "source": [
    "##### Plot Sales & Google Trends data; \n",
    "par(mfrow=c(2,1)); \n",
    "plot(sales ~ month, data= ford_sales_dat, lwd=2, type='l', main='Ford Sales', ylab='Sales', xlab='Time'); \n",
    "plot(hits ~ date, data= ford_trends_dat, lwd=2, type='l', main='Google Trends: Ford', ylab='Percentage Change', xlab='Time');\n"
   ]
  },
  {
   "cell_type": "code",
   "execution_count": 13,
   "metadata": {
    "collapsed": true
   },
   "outputs": [],
   "source": [
    "\n",
    "##### Merge Sales Data w/ Google Trends Data \n",
    "ford_trends_dat$month = as.Date(paste(substr(ford_trends_dat$date, 1, 7), '01', sep='-')) \n",
    "ford_sales_dat = merge(ford_sales_dat, ford_trends_dat);\n",
    "\n",
    "##### Define Predictor - Google Trends \n",
    "## t.lag defines the time lag between the research and purchase. \n",
    "## \tt.lag = 0 if you want to include last week of the previous month and \n",
    "## \t\t1st-2nd week of the corresponding month \n",
    "## \tt.lag = 1 if you want to include 1st-3rd week of the corresponding month \n",
    "t.lag = 1; \n",
    "id = which(ford_sales_dat$month[-1] != ford_sales_dat$month[-nrow(ford_sales_dat)]); \n",
    "mdat = ford_sales_dat[id + 1, c('month', 'sales', 's1', 's12')];\n",
    "mdat$trends1 = ford_sales_dat$hits[id + t.lag]; \n",
    "mdat$trends2 = ford_sales_dat$hits[id + t.lag + 1]; \n",
    "mdat$trends3 = ford_sales_dat$hits[id + t.lag + 2];\n",
    "\n",
    "##### Divide data by two parts - model fitting & prediction \n",
    "dat1 = mdat[1:(nrow(mdat)-1), ] \n",
    "dat2 = mdat[nrow(mdat), ]"
   ]
  },
  {
   "cell_type": "code",
   "execution_count": 14,
   "metadata": {},
   "outputs": [
    {
     "data": {
      "text/plain": [
       "\n",
       "\tBox-Ljung test\n",
       "\n",
       "data:  log(dat1$sales)\n",
       "X-squared = 0.93576, df = 1, p-value = 0.3334\n"
      ]
     },
     "metadata": {},
     "output_type": "display_data"
    },
    {
     "data": {
      "image/png": "[encoded data removed]",
      "text/plain": [
       "Plot with title \"Series  log(dat1$sales)\""
      ]
     },
     "metadata": {},
     "output_type": "display_data"
    }
   ],
   "source": [
    "#### Exploratory Data Analysis \n",
    "## Testing Autocorrelation & Seasonality \n",
    "acf(log(dat1$sales)); \n",
    "Box.test(log(dat1$sales), type=\"Ljung-Box\") \n"
   ]
  },
  {
   "cell_type": "code",
   "execution_count": 16,
   "metadata": {},
   "outputs": [
    {
     "data": {
      "text/plain": [
       "\n",
       "\tPearson's product-moment correlation\n",
       "\n",
       "data:  dat1$trends1 and log(dat1$sales)\n",
       "t = 0.80315, df = 52, p-value = 0.4255\n",
       "alternative hypothesis: true correlation is not equal to 0\n",
       "95 percent confidence interval:\n",
       " -0.1618651  0.3675594\n",
       "sample estimates:\n",
       "     cor \n",
       "0.110693 \n"
      ]
     },
     "metadata": {},
     "output_type": "display_data"
    },
    {
     "data": {
      "text/plain": [
       "\n",
       "\tPearson's product-moment correlation\n",
       "\n",
       "data:  dat1$trends2 and log(dat1$sales)\n",
       "t = 1.3269, df = 52, p-value = 0.1903\n",
       "alternative hypothesis: true correlation is not equal to 0\n",
       "95 percent confidence interval:\n",
       " -0.09120735  0.42799396\n",
       "sample estimates:\n",
       "      cor \n",
       "0.1809729 \n"
      ]
     },
     "metadata": {},
     "output_type": "display_data"
    },
    {
     "data": {
      "text/plain": [
       "\n",
       "\tPearson's product-moment correlation\n",
       "\n",
       "data:  dat1$trends3 and log(dat1$sales)\n",
       "t = 1.3345, df = 52, p-value = 0.1878\n",
       "alternative hypothesis: true correlation is not equal to 0\n",
       "95 percent confidence interval:\n",
       " -0.09017862  0.42884083\n",
       "sample estimates:\n",
       "     cor \n",
       "0.181976 \n"
      ]
     },
     "metadata": {},
     "output_type": "display_data"
    },
    {
     "data": {
      "image/png": "[encoded data removed]",
      "text/plain": [
       "Plot with title \"\""
      ]
     },
     "metadata": {},
     "output_type": "display_data"
    }
   ],
   "source": [
    "## Testing Correlation \n",
    "plot(y = log(dat1$sales), x = dat1$trends1, main='', pch=19,\n",
    "     ylab='log(Sales)', xlab= 'Google Trends - 1st week') \n",
    "abline(lm(log(dat1$sales) ~ dat1$trends1), lwd=2, col=2) \n",
    "cor.test(y = log(dat1$sales), x = dat1$trends1) \n",
    "cor.test(y = log(dat1$sales), x = dat1$trends2) \n",
    "cor.test(y = log(dat1$sales), x = dat1$trends3)\n",
    "\n",
    "\n",
    "\n"
   ]
  },
  {
   "cell_type": "code",
   "execution_count": 19,
   "metadata": {},
   "outputs": [
    {
     "data": {
      "text/plain": [
       "\n",
       "Call:\n",
       "lm(formula = log(sales) ~ log(s1) + log(s12) + trends1, data = dat1)\n",
       "\n",
       "Residuals:\n",
       "     Min       1Q   Median       3Q      Max \n",
       "-0.18326 -0.06141 -0.01489  0.06180  0.18143 \n",
       "\n",
       "Coefficients:\n",
       "             Estimate Std. Error t value Pr(>|t|)    \n",
       "(Intercept) -1.067369   0.467698  -2.282  0.02802 *  \n",
       "log(s1)      0.076025   0.059415   1.280  0.20826    \n",
       "log(s12)     0.979633   0.061594  15.905  < 2e-16 ***\n",
       "trends1      0.010385   0.002992   3.471  0.00128 ** \n",
       "---\n",
       "Signif. codes:  0 '***' 0.001 '**' 0.01 '*' 0.05 '.' 0.1 ' ' 1\n",
       "\n",
       "Residual standard error: 0.09042 on 39 degrees of freedom\n",
       "  (11 observations deleted due to missingness)\n",
       "Multiple R-squared:  0.8693,\tAdjusted R-squared:  0.8592 \n",
       "F-statistic: 86.43 on 3 and 39 DF,  p-value: < 2.2e-16\n"
      ]
     },
     "metadata": {},
     "output_type": "display_data"
    },
    {
     "data": {
      "image/png": "[encoded data removed]",
      "text/plain": [
       "Plot with title \"\""
      ]
     },
     "metadata": {},
     "output_type": "display_data"
    }
   ],
   "source": [
    "\n",
    "##### Fit Model; \n",
    "fit = lm(log(sales) ~ log(s1) + log(s12) + trends1, data=dat1); \n",
    "summary(fit)\n",
    "\n",
    "##### Diagnostic Plot \n",
    "par(mfrow=c(2,2)); \n",
    "plot(fit)\n"
   ]
  },
  {
   "cell_type": "code",
   "execution_count": 20,
   "metadata": {
    "collapsed": true
   },
   "outputs": [],
   "source": [
    "#### Prediction for the next month; \n",
    "predict.fit = predict(fit, newdata=dat2, se.fit=TRUE)"
   ]
  },
  {
   "cell_type": "code",
   "execution_count": 18,
   "metadata": {},
   "outputs": [
    {
     "name": "stdout",
     "output_type": "stream",
     "text": [
      "         month  sales     s1    s12 trends1 trends2 trends3\n",
      "240 2008-08-01 39.502 67.494 42.502      68      66      67\n"
     ]
    }
   ],
   "source": [
    "show(dat2)"
   ]
  },
  {
   "cell_type": "code",
   "execution_count": null,
   "metadata": {
    "collapsed": true
   },
   "outputs": [],
   "source": []
  }
 ],
 "metadata": {
  "kernelspec": {
   "display_name": "R",
   "language": "R",
   "name": "ir"
  },
  "language_info": {
   "codemirror_mode": "r",
   "file_extension": ".r",
   "mimetype": "text/x-r-source",
   "name": "R",
   "pygments_lexer": "r",
   "version": "3.5.1"
  }
 },
 "nbformat": 4,
 "nbformat_minor": 2
}
